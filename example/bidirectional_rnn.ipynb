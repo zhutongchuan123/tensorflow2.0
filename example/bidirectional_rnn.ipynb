{
 "cells": [
  {
   "cell_type": "markdown",
   "metadata": {},
   "source": [
    "# Bi-directional Recurrent Neural Network Example\n",
    "\n",
    "Build a bi-directional recurrent neural network (LSTM) with TensorFlow 2.0.\n",
    "\n",
    "- Author: Aymeric Damien\n",
    "- Project: https://github.com/aymericdamien/TensorFlow-Examples/"
   ]
  },
  {
   "cell_type": "markdown",
   "metadata": {},
   "source": [
    "## BiRNN Overview\n",
    "\n",
    "<img src=\"https://ai2-s2-public.s3.amazonaws.com/figures/2016-11-08/191dd7df9cb91ac22f56ed0dfa4a5651e8767a51/1-Figure2-1.png\" alt=\"nn\" style=\"width: 600px;\"/>\n",
    "\n",
    "References:\n",
    "- [Long Short Term Memory](http://deeplearning.cs.cmu.edu/pdfs/Hochreiter97_lstm.pdf), Sepp Hochreiter & Jurgen Schmidhuber, Neural Computation 9(8): 1735-1780, 1997.\n",
    "\n",
    "## MNIST Dataset Overview\n",
    "\n",
    "This example is using MNIST handwritten digits. The dataset contains 60,000 examples for training and 10,000 examples for testing. The digits have been size-normalized and centered in a fixed-size image (28x28 pixels) with values from 0 to 1. For simplicity, each image has been flattened and converted to a 1-D numpy array of 784 features (28*28).\n",
    "\n",
    "![MNIST Dataset](http://neuralnetworksanddeeplearning.com/images/mnist_100_digits.png)\n",
    "\n",
    "To classify images using a recurrent neural network, we consider every image row as a sequence of pixels. Because MNIST image shape is 28*28px, we will then handle 28 sequences of 28 timesteps for every sample.\n",
    "\n",
    "More info: http://yann.lecun.com/exdb/mnist/"
   ]
  },
  {
   "cell_type": "code",
   "execution_count": 1,
   "metadata": {},
   "outputs": [],
   "source": [
    "from __future__ import absolute_import, division, print_function\n",
    "\n",
    "# 导入tf2.0\n",
    "import tensorflow as tf\n",
    "from tensorflow.keras import Model, layers\n",
    "import numpy as np"
   ]
  },
  {
   "cell_type": "code",
   "execution_count": 2,
   "metadata": {},
   "outputs": [],
   "source": [
    "# MNIST 数据集参数\n",
    "num_classes = 10 # 总类 (0-9 数字).\n",
    "num_features = 784 # 数据特征 (img形状: 28*28).\n",
    "\n",
    "# 训练参数\n",
    "learning_rate = 0.001\n",
    "training_steps = 1000\n",
    "batch_size = 32\n",
    "display_step = 100\n",
    "\n",
    "# 网络参数\n",
    "# MNIST图像形状为 28*28px, 然后我们将为每个样本处理28个时间步长的28个序列\n",
    "num_input = 28 # 序列数\n",
    "timesteps = 28 # 时间步长\n",
    "num_units = 32 # LSTM层的神经元数量"
   ]
  },
  {
   "cell_type": "code",
   "execution_count": 3,
   "metadata": {},
   "outputs": [],
   "source": [
    "# 准备 MNIST 数据\n",
    "from tensorflow.keras.datasets import mnist\n",
    "(x_train, y_train), (x_test, y_test) = mnist.load_data()\n",
    "# 转换为 float32类型\n",
    "x_train, x_test = np.array(x_train, np.float32), np.array(x_test, np.float32)\n",
    "# 将图片展平为784个特征的一维矢量（28*28）\n",
    "x_train, x_test = x_train.reshape([-1, 28, 28]), x_test.reshape([-1, num_features])\n",
    "# 将图像值从[0, 255]标准化为 [0, 1].\n",
    "x_train, x_test = x_train / 255., x_test / 255."
   ]
  },
  {
   "cell_type": "code",
   "execution_count": 4,
   "metadata": {},
   "outputs": [],
   "source": [
    "# 使用tf.data API随机播放和批量处理数据\n",
    "train_data = tf.data.Dataset.from_tensor_slices((x_train, y_train))\n",
    "train_data = train_data.repeat().shuffle(5000).batch(batch_size).prefetch(1)"
   ]
  },
  {
   "cell_type": "code",
   "execution_count": 5,
   "metadata": {},
   "outputs": [],
   "source": [
    "# 创建LSTM 模型.\n",
    "class BiRNN(Model):\n",
    "    # 设置图层\n",
    "    def __init__(self):\n",
    "        super(BiRNN, self).__init__()\n",
    "        #为向前和向后序列定义2个 LSTM图层\n",
    "        lstm_fw = layers.LSTM(units=num_units)\n",
    "        lstm_bw = layers.LSTM(units=num_units, go_backwards=True)\n",
    "        # BiRNN 层\n",
    "        self.bi_lstm = layers.Bidirectional(lstm_fw, backward_layer=lstm_bw)\n",
    "        # 输出层 (num_classes).\n",
    "        self.out = layers.Dense(num_classes)\n",
    "\n",
    "    # 设置向前通过\n",
    "    def call(self, x, is_training=False):\n",
    "        x = self.bi_lstm(x)\n",
    "        x = self.out(x)\n",
    "        if not is_training:\n",
    "            # tf 交叉熵期望logits没有softmax,因此仅不训练时应用softmax\n",
    "            x = tf.nn.softmax(x)\n",
    "        return x\n",
    "\n",
    "# 建立LSTM 模型\n",
    "birnn_net = BiRNN()"
   ]
  },
  {
   "cell_type": "code",
   "execution_count": 6,
   "metadata": {},
   "outputs": [],
   "source": [
    "# 交叉熵损失\n",
    "# 注意，这会将'softmax' 应用于 logits.\n",
    "def cross_entropy_loss(x, y):\n",
    "    # 为tf交叉熵函数将标签转换为 int 64 \n",
    "    y = tf.cast(y, tf.int64)\n",
    "    # 将softmax应用于logits 并计算交叉熵\n",
    "    loss = tf.nn.sparse_softmax_cross_entropy_with_logits(labels=y, logits=x)\n",
    "    # 批次中的平均随时\n",
    "    return tf.reduce_mean(loss)\n",
    "\n",
    "# 精度指标.\n",
    "def accuracy(y_pred, y_true):\n",
    "    # 预测类是预测向量中最高得分的索引 (即argmax).\n",
    "    correct_prediction = tf.equal(tf.argmax(y_pred, 1), tf.cast(y_true, tf.int64))\n",
    "    return tf.reduce_mean(tf.cast(correct_prediction, tf.float32), axis=-1)\n",
    "\n",
    "# Adam optimizer.\n",
    "optimizer = tf.optimizers.Adam(learning_rate)"
   ]
  },
  {
   "cell_type": "code",
   "execution_count": 7,
   "metadata": {},
   "outputs": [],
   "source": [
    "# 优化过程. \n",
    "def run_optimization(x, y):\n",
    "    # 将计算包装在GradientTape 内以自动区分\n",
    "    with tf.GradientTape() as g:\n",
    "        # 向前传递\n",
    "        pred = birnn_net(x, is_training=True)\n",
    "        # 计算损失\n",
    "        loss = cross_entropy_loss(pred, y)\n",
    "        \n",
    "    # 要更新的变量，即可训练的变量\n",
    "    trainable_variables = birnn_net.trainable_variables\n",
    "\n",
    "    #计算gradients.\n",
    "    gradients = g.gradient(loss, trainable_variables)\n",
    "    \n",
    "    # 按照gradients更新W和b\n",
    "    optimizer.apply_gradients(zip(gradients, trainable_variables))"
   ]
  },
  {
   "cell_type": "code",
   "execution_count": 8,
   "metadata": {},
   "outputs": [
    {
     "name": "stdout",
     "output_type": "stream",
     "text": [
      "step: 100, loss: 1.306422, accuracy: 0.625000\n",
      "step: 200, loss: 0.973236, accuracy: 0.718750\n",
      "step: 300, loss: 0.673558, accuracy: 0.781250\n",
      "step: 400, loss: 0.439304, accuracy: 0.875000\n",
      "step: 500, loss: 0.303866, accuracy: 0.906250\n",
      "step: 600, loss: 0.414652, accuracy: 0.875000\n",
      "step: 700, loss: 0.241098, accuracy: 0.937500\n",
      "step: 800, loss: 0.204522, accuracy: 0.875000\n",
      "step: 900, loss: 0.398520, accuracy: 0.843750\n",
      "step: 1000, loss: 0.217469, accuracy: 0.937500\n"
     ]
    }
   ],
   "source": [
    "# 按照给定的步骤数进行训练\n",
    "for step, (batch_x, batch_y) in enumerate(train_data.take(training_steps), 1):\n",
    "    # 运行优化以更新W和b值\n",
    "    run_optimization(batch_x, batch_y)\n",
    "    \n",
    "    if step % display_step == 0:\n",
    "        pred = birnn_net(batch_x, is_training=True)\n",
    "        loss = cross_entropy_loss(pred, batch_y)\n",
    "        acc = accuracy(pred, batch_y)\n",
    "        print(\"step: %i, loss: %f, accuracy: %f\" % (step, loss, acc))"
   ]
  }
 ],
 "metadata": {
  "kernelspec": {
   "display_name": "Python 3",
   "language": "python",
   "name": "python3"
  },
  "language_info": {
   "codemirror_mode": {
    "name": "ipython",
    "version": 3
   },
   "file_extension": ".py",
   "mimetype": "text/x-python",
   "name": "python",
   "nbconvert_exporter": "python",
   "pygments_lexer": "ipython3",
   "version": "3.6.10"
  }
 },
 "nbformat": 4,
 "nbformat_minor": 2
}

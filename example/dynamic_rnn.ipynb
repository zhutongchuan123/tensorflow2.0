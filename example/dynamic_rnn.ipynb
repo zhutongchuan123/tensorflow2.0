{
 "cells": [
  {
   "cell_type": "markdown",
   "metadata": {},
   "source": [
    "# Dynamic Recurrent Neural Network.\n",
    "\n",
    "TensorFlow 2.0 implementation of a Recurrent Neural Network (LSTM) that performs dynamic computation over sequences with variable length. This example is using a toy dataset to classify linear sequences. The generated sequences have variable length.\n",
    "\n",
    "- Author: Aymeric Damien\n",
    "- Project: https://github.com/aymericdamien/TensorFlow-Examples/"
   ]
  },
  {
   "cell_type": "markdown",
   "metadata": {},
   "source": [
    "## RNN Overview\n",
    "\n",
    "<img src=\"http://colah.github.io/posts/2015-08-Understanding-LSTMs/img/RNN-unrolled.png\" alt=\"nn\" style=\"width: 600px;\"/>\n",
    "\n",
    "References:\n",
    "- [Long Short Term Memory](http://deeplearning.cs.cmu.edu/pdfs/Hochreiter97_lstm.pdf), Sepp Hochreiter & Jurgen Schmidhuber, Neural Computation 9(8): 1735-1780, 1997."
   ]
  },
  {
   "cell_type": "code",
   "execution_count": 1,
   "metadata": {},
   "outputs": [],
   "source": [
    "from __future__ import absolute_import, division, print_function\n",
    "\n",
    "import tensorflow as tf\n",
    "from tensorflow.keras import Model, layers\n",
    "import numpy as np\n",
    "import random"
   ]
  },
  {
   "cell_type": "code",
   "execution_count": 2,
   "metadata": {},
   "outputs": [],
   "source": [
    "# 数据集参数.\n",
    "num_classes = 2 # 类别数目，是否为线性序列.\n",
    "seq_max_len = 20 # 最大序列长度.\n",
    "seq_min_len = 5 # 最小序列长度 (填充前的).\n",
    "masking_val = -1 # -1将表示掩码，并用于将序列填充到公共最大长度.\n",
    "max_value = 10000 # 最大整数值.\n",
    "\n",
    "# 训练参数\n",
    "learning_rate = 0.001\n",
    "training_steps = 2000\n",
    "batch_size = 64\n",
    "display_step = 100\n",
    "\n",
    "# 网络参数\n",
    "num_units = 32 # LSTM层的神经元数目."
   ]
  },
  {
   "cell_type": "code",
   "execution_count": 3,
   "metadata": {},
   "outputs": [],
   "source": [
    "# ====================\n",
    "#  TOY DATA GENERATOR\n",
    "# ====================\n",
    "\n",
    "def toy_sequence_data():\n",
    "    \"\"\" Generate sequence of data with dynamic length.\n",
    "    This function generates toy samples for training:\n",
    "    - Class 0: linear sequences (i.e. [1, 2, 3, 4, ...])\n",
    "    - Class 1: random sequences (i.e. [9, 3, 10, 7,...])\n",
    "\n",
    "    NOTICE:\n",
    "    We have to pad each sequence to reach 'seq_max_len' for TensorFlow\n",
    "    consistency (we cannot feed a numpy array with inconsistent\n",
    "    dimensions). The dynamic calculation will then be perform and ignore\n",
    "    the masked value (here -1).\n",
    "    \"\"\"\n",
    "    while True:\n",
    "        # 建立序列长度的变量.\n",
    "        seq_len = random.randint(seq_min_len, seq_max_len)\n",
    "        rand_start = random.randint(0, max_value - seq_len)\n",
    "        # 新增一个随机或者线性的整数序列.\n",
    "        if random.random() < .5:\n",
    "            # 生成一个线性序列.\n",
    "            seq = np.arange(start=rand_start, stop=rand_start+seq_len)\n",
    "            # 将值缩放到0-1之间.\n",
    "            seq = seq / max_value\n",
    "            # 将序列填充至与最大序列尺寸一致.\n",
    "            # 屏蔽值设置为-1.\n",
    "            seq = np.pad(seq, mode='constant', pad_width=(0, seq_max_len-seq_len), constant_values=masking_val)\n",
    "            label = 0\n",
    "        else:\n",
    "            # 生成一个随机序列.\n",
    "            seq = np.random.randint(max_value, size=seq_len)\n",
    "            # 将值缩放到0-1之间.\n",
    "            seq = seq / max_value\n",
    "            # 将序列填充至与最大序列尺寸一致.\n",
    "            # 屏蔽值设置为-1.\n",
    "            seq = np.pad(seq, mode='constant', pad_width=(0, seq_max_len-seq_len), constant_values=masking_val)\n",
    "            label = 1\n",
    "        yield np.array(seq, dtype=np.float32), np.array(label, dtype=np.float32)"
   ]
  },
  {
   "cell_type": "code",
   "execution_count": 4,
   "metadata": {},
   "outputs": [],
   "source": [
    "#数据预处理.\n",
    "train_data = tf.data.Dataset.from_generator(toy_sequence_data, output_types=(tf.float32, tf.float32))\n",
    "train_data = train_data.repeat().shuffle(5000).batch(batch_size).prefetch(1)"
   ]
  },
  {
   "cell_type": "code",
   "execution_count": 5,
   "metadata": {},
   "outputs": [],
   "source": [
    "# 创建LSTM模型.\n",
    "class LSTM(Model):\n",
    "    # 创建模型层次.\n",
    "    def __init__(self):\n",
    "        super(LSTM, self).__init__()\n",
    "        # 定义一个屏蔽值为-1的屏蔽层.\n",
    "        self.masking = layers.Masking(mask_value=masking_val)\n",
    "        # 定义一个应用于屏蔽层的LSTM层.\n",
    "        # 动态计算时将会自动忽略-1的值.\n",
    "        self.lstm = layers.LSTM(units=num_units)\n",
    "        # 输出全连接层.\n",
    "        self.out = layers.Dense(num_classes)\n",
    "\n",
    "    # 建立前向传导.\n",
    "    def call(self, x, is_training=False):\n",
    "        # 一个RNN层期望三维的输入 (batch_size, seq_len, num_features).\n",
    "        x = tf.reshape(x, shape=[-1, seq_max_len, 1])\n",
    "        # 应用Masking层.\n",
    "        x = self.masking(x)\n",
    "        # 应用LSTM层.\n",
    "        x = self.lstm(x)\n",
    "        # 应用输出层.\n",
    "        x = self.out(x)\n",
    "        if not is_training:\n",
    "            # # tf交叉熵期望logits没有softmax，所以只在不训练时应用softmax.\n",
    "            x = tf.nn.softmax(x)\n",
    "        return x\n",
    "\n",
    "# 构建LSTM模型.\n",
    "lstm_net = LSTM()"
   ]
  },
  {
   "cell_type": "code",
   "execution_count": 6,
   "metadata": {},
   "outputs": [],
   "source": [
    "# 交叉熵损失.\n",
    "def cross_entropy_loss(x, y):\n",
    "    # 将tf交叉熵函数的标签转换为int64.\n",
    "    y = tf.cast(y, tf.int64)\n",
    "    # 将softmax应用于logits计算交叉熵.\n",
    "    loss = tf.nn.sparse_softmax_cross_entropy_with_logits(labels=y, logits=x)\n",
    "    # 批次平均损耗.\n",
    "    return tf.reduce_mean(loss)\n",
    "\n",
    "# 精确度指标.\n",
    "def accuracy(y_pred, y_true):\n",
    "    # Predicted class is the index of highest score in prediction vector (i.e. argmax).\n",
    "    correct_prediction = tf.equal(tf.argmax(y_pred, 1), tf.cast(y_true, tf.int64))\n",
    "    return tf.reduce_mean(tf.cast(correct_prediction, tf.float32), axis=-1)\n",
    "\n",
    "# Adam优化器.\n",
    "optimizer = tf.optimizers.Adam(learning_rate)"
   ]
  },
  {
   "cell_type": "code",
   "execution_count": 7,
   "metadata": {},
   "outputs": [],
   "source": [
    "# 优化过程. \n",
    "def run_optimization(x, y):\n",
    "    with tf.GradientTape() as g:\n",
    "        # 向前传导.\n",
    "        pred = lstm_net(x, is_training=True)\n",
    "        # 计算损失.\n",
    "        loss = cross_entropy_loss(pred, y)\n",
    "        \n",
    "    # 创建用于更新，即可训练的变量.\n",
    "    trainable_variables = lstm_net.trainable_variables\n",
    "\n",
    "    # 计算梯度值.\n",
    "    gradients = g.gradient(loss, trainable_variables)\n",
    "    \n",
    "    # 根据梯度值更新权值.\n",
    "    optimizer.apply_gradients(zip(gradients, trainable_variables))"
   ]
  },
  {
   "cell_type": "code",
   "execution_count": 8,
   "metadata": {},
   "outputs": [
    {
     "name": "stdout",
     "output_type": "stream",
     "text": [
      "step: 1, loss: 0.694514, accuracy: 0.453125\n",
      "step: 100, loss: 0.673558, accuracy: 0.625000\n",
      "step: 200, loss: 0.484812, accuracy: 0.796875\n",
      "step: 300, loss: 0.416448, accuracy: 0.796875\n",
      "step: 400, loss: 0.349169, accuracy: 0.828125\n",
      "step: 500, loss: 0.376243, accuracy: 0.812500\n",
      "step: 600, loss: 0.246535, accuracy: 0.906250\n",
      "step: 700, loss: 0.242801, accuracy: 0.906250\n",
      "step: 800, loss: 0.185866, accuracy: 0.921875\n",
      "step: 900, loss: 0.190631, accuracy: 0.937500\n",
      "step: 1000, loss: 0.181896, accuracy: 0.953125\n",
      "step: 1100, loss: 0.185485, accuracy: 0.906250\n",
      "step: 1200, loss: 0.123493, accuracy: 0.921875\n",
      "step: 1300, loss: 0.089478, accuracy: 1.000000\n",
      "step: 1400, loss: 0.153334, accuracy: 0.921875\n",
      "step: 1500, loss: 0.057054, accuracy: 1.000000\n",
      "step: 1600, loss: 0.122397, accuracy: 0.968750\n",
      "step: 1700, loss: 0.086428, accuracy: 0.968750\n",
      "step: 1800, loss: 0.126830, accuracy: 0.906250\n",
      "step: 1900, loss: 0.067411, accuracy: 0.984375\n",
      "step: 2000, loss: 0.056770, accuracy: 0.984375\n"
     ]
    }
   ],
   "source": [
    "# 按照给定的步长训练.\n",
    "for step, (batch_x, batch_y) in enumerate(train_data.take(training_steps), 1):\n",
    "    # 运行优化器去更新权值和偏差.\n",
    "    run_optimization(batch_x, batch_y)\n",
    "    \n",
    "    if step % display_step == 0 or step == 1:\n",
    "        pred = lstm_net(batch_x, is_training=True)\n",
    "        loss = cross_entropy_loss(pred, batch_y)\n",
    "        acc = accuracy(pred, batch_y)\n",
    "        print(\"step: %i, loss: %f, accuracy: %f\" % (step, loss, acc))"
   ]
  }
 ],
 "metadata": {
  "kernelspec": {
   "display_name": "Python 3",
   "language": "python",
   "name": "python3"
  },
  "language_info": {
   "codemirror_mode": {
    "name": "ipython",
    "version": 3
   },
   "file_extension": ".py",
   "mimetype": "text/x-python",
   "name": "python",
   "nbconvert_exporter": "python",
   "pygments_lexer": "ipython3",
   "version": "3.7.3"
  }
 },
 "nbformat": 4,
 "nbformat_minor": 2
}
